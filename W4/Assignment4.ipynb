{
  "nbformat": 4,
  "nbformat_minor": 0,
  "metadata": {
    "colab": {
      "provenance": [],
      "collapsed_sections": []
    },
    "kernelspec": {
      "name": "python3",
      "display_name": "Python 3"
    }
  },
  "cells": [
    {
      "cell_type": "markdown",
      "metadata": {
        "id": "-sTsDfIVKsmL"
      },
      "source": [
        "#DAT405 Introduction to Data Science and AI \n",
        "##2022-2023, Reading Period 1\n",
        "## Assignment 4: Spam classification using Naïve Bayes \n",
        "There will be an overall grade for this assignment. To get a pass grade (grade 5), you need to pass items 1-3 below. To receive higher grades, finish items 4 and 5 as well. \n",
        "\n",
        "The exercise takes place in a notebook environment where you can chose to use Jupyter or Google Colabs. We recommend you use Google Colabs as it will facilitate remote group-work and makes the assignment less technical. \n",
        "Hints:\n",
        "You can execute certain linux shell commands by prefixing the command with `!`. You can insert Markdown cells and code cells. The first you can use for documenting and explaining your results the second you can use writing code snippets that execute the tasks required.  \n",
        "\n",
        "In this assignment you will implement a Naïve Bayes classifier in Python that will classify emails into spam and non-spam (“ham”) classes.  Your program should be able to train on a given set of spam and “ham” datasets. \n",
        "You will work with the datasets available at https://spamassassin.apache.org/old/publiccorpus/. There are three types of files in this location: \n",
        "-\teasy-ham: non-spam messages typically quite easy to differentiate from spam messages. \n",
        "-\thard-ham: non-spam messages more difficult to differentiate \n",
        "-\tspam: spam messages \n",
        "\n",
        "**Execute the cell below to download and extract the data into the environment of the notebook -- it will take a few seconds.** If you chose to use Jupyter notebooks you will have to run the commands in the cell below on your local computer, with Windows you can use \n",
        "7zip (https://www.7-zip.org/download.html) to decompress the data.\n",
        "\n"
      ]
    },
    {
      "cell_type": "code",
      "metadata": {
        "id": "Wa37fBwRF-xe"
      },
      "source": [
        "#Download and extract data\n",
        "!wget https://spamassassin.apache.org/old/publiccorpus/20021010_easy_ham.tar.bz2\n",
        "!wget https://spamassassin.apache.org/old/publiccorpus/20021010_hard_ham.tar.bz2\n",
        "!wget https://spamassassin.apache.org/old/publiccorpus/20021010_spam.tar.bz2\n",
        "!tar -xjf 20021010_easy_ham.tar.bz2\n",
        "!tar -xjf 20021010_hard_ham.tar.bz2\n",
        "!tar -xjf 20021010_spam.tar.bz2"
      ],
      "execution_count": null,
      "outputs": []
    },
    {
      "cell_type": "markdown",
      "metadata": {
        "id": "tdH1XTepLjZ3"
      },
      "source": [
        "*The* data is now in the three folders `easy_ham`, `hard_ham`, and `spam`."
      ]
    },
    {
      "cell_type": "code",
      "metadata": {
        "id": "A53Gw00fBLG2"
      },
      "source": [
        "!ls -lah"
      ],
      "execution_count": null,
      "outputs": []
    },
    {
      "cell_type": "markdown",
      "metadata": {
        "id": "DGlWPVnSNzT7"
      },
      "source": [
        "###1. Preprocessing: \n",
        "1.\tNote that the email files contain a lot of extra information, besides the actual message. Ignore that for now and run on the entire text. Further down (in the higher-grade part), you will be asked to filter out the headers and footers. \n",
        "2.\tWe don’t want to train and test on the same data. Split the spam and the ham datasets in a training set and a test set. (`hamtrain`, `spamtrain`, `hamtest`, and `spamtest`)\n"
      ]
    },
    {
      "cell_type": "code",
      "metadata": {
        "id": "J2sllUWXKblD"
      },
      "source": [
        "#pre-processing code here"
      ],
      "execution_count": null,
      "outputs": []
    },
    {
      "cell_type": "markdown",
      "metadata": {
        "id": "mnbrbI0_OKCF"
      },
      "source": [
        "###2. Write a Python program that: \n",
        "1.\tUses four datasets (`hamtrain`, `spamtrain`, `hamtest`, and `spamtest`) \n",
        "2.\tTrains a Naïve Bayes classifier (e.g. Sklearn) on `hamtrain` and `spamtrain`, that classifies the test sets and reports True Positive and False Negative rates on the `hamtest` and `spamtest` datasets. You can use `CountVectorizer` to transform the email texts into vectors. Please note that there are different types of Naïve Bayes Classifier in SKlearn ([Documentation here](https://scikit-learn.org/stable/modules/naive_bayes.html)). Test two of these classifiers that are well suited for this problem\n",
        "- Multinomial Naive Bayes  \n",
        "- Bernoulli Naive Bayes. \n",
        "\n",
        "Please inspect the documentation to ensure input to the classifiers is appropriate. Discuss the differences between these two classifiers. \n",
        "\n",
        "\n",
        "\n"
      ]
    },
    {
      "cell_type": "code",
      "metadata": {
        "id": "MJERHSCcGNaW"
      },
      "source": [
        "#Code here"
      ],
      "execution_count": null,
      "outputs": []
    },
    {
      "cell_type": "markdown",
      "metadata": {
        "id": "nI1bPDCvQxen"
      },
      "source": [
        "Your discussion here"
      ]
    },
    {
      "cell_type": "markdown",
      "metadata": {
        "id": "wDFS3uFFUcS7"
      },
      "source": [
        "### 3.Run your program on \n",
        "-\tSpam versus easy-ham \n",
        "-\tSpam versus hard-ham."
      ]
    },
    {
      "cell_type": "code",
      "metadata": {
        "id": "gool_zb8Qzzy"
      },
      "source": [
        "#Code to report results here"
      ],
      "execution_count": null,
      "outputs": []
    },
    {
      "cell_type": "markdown",
      "metadata": {
        "id": "TkfQWBB4UhYd"
      },
      "source": [
        "###4.\tTo avoid classification based on common and uninformative words it is common to filter these out. \n",
        "\n",
        "**a.** Argue why this may be useful. Try finding the words that are too common/uncommon in the dataset. \n",
        "\n",
        "**b.** Use the parameters in Sklearn’s `CountVectorizer` to filter out these words. Update the program from point 3 and run it on your data and report your results.\n",
        "\n",
        "You have two options to do this in Sklearn: either using the words found in part (a) or letting Sklearn do it for you. Argue for your decision-making.\n"
      ]
    },
    {
      "cell_type": "code",
      "metadata": {
        "id": "qt7ELzEqUfas"
      },
      "source": [],
      "execution_count": null,
      "outputs": []
    },
    {
      "cell_type": "markdown",
      "metadata": {
        "id": "zcyVfOZFU4F_"
      },
      "source": [
        "###5. Eeking out further performance\n",
        "Filter out the headers and footers of the emails before you run on them. The format may vary somewhat between emails, which can make this a bit tricky, so perfect filtering is not required. Run your program again and answer the following questions: \n",
        "-\tDoes the result improve from 3 and 4? \n",
        "- The split of the data set into a training set and a test set can lead to very skewed results. Why is this, and do you have suggestions on remedies? \n",
        "- What do you expect would happen if your training set were mostly spam messages while your test set were mostly ham messages? \n",
        "\n",
        "Re-estimate your classifier using `fit_prior` parameter set to `false`, and answer the following questions:\n",
        "- What does this parameter mean?\n",
        "- How does this alter the predictions? Discuss why or why not."
      ]
    },
    {
      "cell_type": "code",
      "metadata": {
        "id": "s_nyGug9U4f3"
      },
      "source": [],
      "execution_count": null,
      "outputs": []
    },
    {
      "cell_type": "markdown",
      "metadata": {
        "id": "ND6FKoexVAhW"
      },
      "source": []
    },
    {
      "cell_type": "code",
      "metadata": {
        "id": "8bI3z_spVacz"
      },
      "source": [],
      "execution_count": null,
      "outputs": []
    }
  ]
}