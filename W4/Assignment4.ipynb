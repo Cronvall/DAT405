{
  "cells": [
    {
      "cell_type": "markdown",
      "metadata": {
        "id": "-sTsDfIVKsmL"
      },
      "source": [
        "#DAT405 Introduction to Data Science and AI \n",
        "##2022-2023, Reading Period 1\n",
        "## Assignment 4: Spam classification using Naïve Bayes \n",
        "There will be an overall grade for this assignment. To get a pass grade (grade 5), you need to pass items 1-3 below. To receive higher grades, finish items 4 and 5 as well. \n",
        "\n",
        "The exercise takes place in a notebook environment where you can chose to use Jupyter or Google Colabs. We recommend you use Google Colabs as it will facilitate remote group-work and makes the assignment less technical. \n",
        "Hints:\n",
        "You can execute certain linux shell commands by prefixing the command with `!`. You can insert Markdown cells and code cells. The first you can use for documenting and explaining your results the second you can use writing code snippets that execute the tasks required.  \n",
        "\n",
        "In this assignment you will implement a Naïve Bayes classifier in Python that will classify emails into spam and non-spam (“ham”) classes.  Your program should be able to train on a given set of spam and “ham” datasets. \n",
        "You will work with the datasets available at https://spamassassin.apache.org/old/publiccorpus/. There are three types of files in this location: \n",
        "-\teasy-ham: non-spam messages typically quite easy to differentiate from spam messages. \n",
        "-\thard-ham: non-spam messages more difficult to differentiate \n",
        "-\tspam: spam messages \n",
        "\n",
        "**Execute the cell below to download and extract the data into the environment of the notebook -- it will take a few seconds.** If you chose to use Jupyter notebooks you will have to run the commands in the cell below on your local computer, with Windows you can use \n",
        "7zip (https://www.7-zip.org/download.html) to decompress the data.\n",
        "\n"
      ]
    },
    {
      "cell_type": "code",
      "execution_count": 4,
      "metadata": {
        "colab": {
          "base_uri": "https://localhost:8080/"
        },
        "id": "Wa37fBwRF-xe",
        "outputId": "22033f37-08e5-4445-cdb9-669979f127e7"
      },
      "outputs": [
        {
          "output_type": "stream",
          "name": "stdout",
          "text": [
            "--2022-11-28 16:09:16--  https://spamassassin.apache.org/old/publiccorpus/20021010_easy_ham.tar.bz2\n",
            "Resolving spamassassin.apache.org (spamassassin.apache.org)... 151.101.2.132, 2a04:4e42::644\n",
            "Connecting to spamassassin.apache.org (spamassassin.apache.org)|151.101.2.132|:443... connected.\n",
            "HTTP request sent, awaiting response... 200 OK\n",
            "Length: 1677144 (1.6M) [application/x-bzip2]\n",
            "Saving to: ‘20021010_easy_ham.tar.bz2’\n",
            "\n",
            "\r          20021010_   0%[                    ]       0  --.-KB/s               \r20021010_easy_ham.t 100%[===================>]   1.60M  --.-KB/s    in 0.02s   \n",
            "\n",
            "2022-11-28 16:09:16 (76.5 MB/s) - ‘20021010_easy_ham.tar.bz2’ saved [1677144/1677144]\n",
            "\n",
            "--2022-11-28 16:09:16--  https://spamassassin.apache.org/old/publiccorpus/20021010_hard_ham.tar.bz2\n",
            "Resolving spamassassin.apache.org (spamassassin.apache.org)... 151.101.2.132, 2a04:4e42::644\n",
            "Connecting to spamassassin.apache.org (spamassassin.apache.org)|151.101.2.132|:443... connected.\n",
            "HTTP request sent, awaiting response... 200 OK\n",
            "Length: 1021126 (997K) [application/x-bzip2]\n",
            "Saving to: ‘20021010_hard_ham.tar.bz2’\n",
            "\n",
            "20021010_hard_ham.t 100%[===================>] 997.19K  --.-KB/s    in 0.02s   \n",
            "\n",
            "2022-11-28 16:09:16 (51.0 MB/s) - ‘20021010_hard_ham.tar.bz2’ saved [1021126/1021126]\n",
            "\n",
            "--2022-11-28 16:09:16--  https://spamassassin.apache.org/old/publiccorpus/20021010_spam.tar.bz2\n",
            "Resolving spamassassin.apache.org (spamassassin.apache.org)... 151.101.2.132, 2a04:4e42::644\n",
            "Connecting to spamassassin.apache.org (spamassassin.apache.org)|151.101.2.132|:443... connected.\n",
            "HTTP request sent, awaiting response... 200 OK\n",
            "Length: 1192582 (1.1M) [application/x-bzip2]\n",
            "Saving to: ‘20021010_spam.tar.bz2’\n",
            "\n",
            "20021010_spam.tar.b 100%[===================>]   1.14M  --.-KB/s    in 0.02s   \n",
            "\n",
            "2022-11-28 16:09:16 (54.9 MB/s) - ‘20021010_spam.tar.bz2’ saved [1192582/1192582]\n",
            "\n"
          ]
        }
      ],
      "source": [
        "#Download and extract data\n",
        "!wget https://spamassassin.apache.org/old/publiccorpus/20021010_easy_ham.tar.bz2\n",
        "!wget https://spamassassin.apache.org/old/publiccorpus/20021010_hard_ham.tar.bz2\n",
        "!wget https://spamassassin.apache.org/old/publiccorpus/20021010_spam.tar.bz2\n",
        "!tar -xjf 20021010_easy_ham.tar.bz2\n",
        "!tar -xjf 20021010_hard_ham.tar.bz2\n",
        "!tar -xjf 20021010_spam.tar.bz2"
      ]
    },
    {
      "cell_type": "markdown",
      "metadata": {
        "id": "tdH1XTepLjZ3"
      },
      "source": [
        "*The* data is now in the three folders `easy_ham`, `hard_ham`, and `spam`."
      ]
    },
    {
      "cell_type": "code",
      "execution_count": 5,
      "metadata": {
        "colab": {
          "base_uri": "https://localhost:8080/"
        },
        "id": "A53Gw00fBLG2",
        "outputId": "9413177d-73e2-4e2a-a2e4-c4dad1134226"
      },
      "outputs": [
        {
          "output_type": "stream",
          "name": "stdout",
          "text": [
            "total 4.0M\n",
            "drwxr-xr-x 1 root root 4.0K Nov 28 16:09 .\n",
            "drwxr-xr-x 1 root root 4.0K Nov 28 16:05 ..\n",
            "-rw-r--r-- 1 root root 1.6M Jun 29  2004 20021010_easy_ham.tar.bz2\n",
            "-rw-r--r-- 1 root root 998K Dec 16  2004 20021010_hard_ham.tar.bz2\n",
            "-rw-r--r-- 1 root root 1.2M Jun 29  2004 20021010_spam.tar.bz2\n",
            "drwxr-xr-x 4 root root 4.0K Nov 22 00:13 .config\n",
            "drwx--x--x 2  500  500 184K Oct 10  2002 easy_ham\n",
            "drwx--x--x 2 1000 1000  20K Dec 16  2004 hard_ham\n",
            "drwxr-xr-x 1 root root 4.0K Nov 22 00:14 sample_data\n",
            "drwxr-xr-x 2  500  500  36K Oct 10  2002 spam\n"
          ]
        }
      ],
      "source": [
        "!ls -lah"
      ]
    },
    {
      "cell_type": "markdown",
      "metadata": {
        "id": "DGlWPVnSNzT7"
      },
      "source": [
        "###1. Preprocessing: \n",
        "1.\tNote that the email files contain a lot of extra information, besides the actual message. Ignore that for now and run on the entire text. Further down (in the higher-grade part), you will be asked to filter out the headers and footers. \n",
        "2.\tWe don’t want to train and test on the same data. Split the spam and the ham datasets in a training set and a test set. (`hamtrain`, `spamtrain`, `hamtest`, and `spamtest`)\n"
      ]
    },
    {
      "cell_type": "code",
      "execution_count": 6,
      "metadata": {
        "id": "oZSTNZ_UMELo"
      },
      "outputs": [],
      "source": [
        "#Necessary imports\n",
        "import os\n",
        "from sklearn.model_selection import train_test_split\n",
        "\n",
        "#Function that saves each mail from the folder in an array\n",
        "def save_data(dir):\n",
        "  _list = []\n",
        "\n",
        "  with os.scandir(dir) as files:\n",
        "    for file in files:\n",
        "      with open(file,\"r\",encoding = \"ISO-8859-1\") as file_open:\n",
        "        content = file_open.read()\n",
        "        _list.append(content)\n",
        "\n",
        "  return _list\n",
        "\n",
        "#Call the save_data function for the three folders\n",
        "easy_ham_mails = save_data('easy_ham')\n",
        "hard_ham_mails = save_data('hard_ham')\n",
        "spam_mails = save_data('spam')\n",
        "\n",
        "#Making labels for the threee different data sets \n",
        "#and for the ham combination data set\n",
        "spam_mails_label = ['spam']*len(spam_mails)\n",
        "hard_ham_mails_label = ['hardham']*(len(hard_ham_mails))\n",
        "easy_ham_mails_label = ['easyham']*len(easy_ham_mails)\n",
        "ham_mails_label = ['ham']*(len(easy_ham_mails + hard_ham_mails))\n",
        "\n",
        "#Using the train_test_split fuction from sklearn to \n",
        "#split the data into train and test. The train sample\n",
        "#is the 80% of the data and the test is the 20% of the data.\n",
        "#We have included the labels to have one for each train and \n",
        "#test with the same number of items as the train and test lists.\n",
        "spam_train, spam_test, spam_label_train, spam_label_test = train_test_split(spam_mails, spam_mails_label, test_size=0.2, random_state=42)\n",
        "hard_ham_train, hard_ham_test, hard_ham_label_train, hard_ham_label_test = train_test_split(hard_ham_mails, hard_ham_mails_label, test_size=0.2, random_state=42)\n",
        "easy_ham_train, easy_ham_test, easy_ham_label_train, easy_ham_label_test = train_test_split(easy_ham_mails, easy_ham_mails_label, test_size=0.2, random_state=42)\n",
        "ham_train, ham_test, ham_label_train, ham_label_test = train_test_split(easy_ham_mails + hard_ham_mails, ham_mails_label, test_size=0.2, random_state=42)\n",
        "\n",
        "\n"
      ]
    },
    {
      "cell_type": "markdown",
      "metadata": {
        "id": "mnbrbI0_OKCF"
      },
      "source": [
        "###2. Write a Python program that: \n",
        "1.\tUses four datasets (`hamtrain`, `spamtrain`, `hamtest`, and `spamtest`) \n",
        "2.\tTrains a Naïve Bayes classifier (e.g. Sklearn) on `hamtrain` and `spamtrain`, that classifies the test sets and reports True Positive and False Negative rates on the `hamtest` and `spamtest` datasets. You can use `CountVectorizer` to transform the email texts into vectors. Please note that there are different types of Naïve Bayes Classifier in SKlearn ([Documentation here](https://scikit-learn.org/stable/modules/naive_bayes.html)). Test two of these classifiers that are well suited for this problem\n",
        "- Multinomial Naive Bayes  \n",
        "- Bernoulli Naive Bayes. \n",
        "\n",
        "Please inspect the documentation to ensure input to the classifiers is appropriate. Discuss the differences between these two classifiers. \n",
        "\n",
        "\n",
        "\n"
      ]
    },
    {
      "cell_type": "code",
      "source": [
        "#Necessary imports\n",
        "from sklearn.feature_extraction.text import CountVectorizer\n",
        "from sklearn.naive_bayes import BernoulliNB\n",
        "from sklearn.naive_bayes import MultinomialNB\n",
        "import numpy as np\n",
        "\n",
        "\n",
        "from sklearn.metrics import accuracy_score\n",
        "from sklearn.metrics import classification_report\n",
        "\n",
        "#Naive_Bayes function that prints the True Positive and False Negative of \n",
        "#the previous train and test using the Multinomial and Bernuoulli Naive Bayes\n",
        "#and CountVectorizer from sklearn package.\n",
        "def Naive_Bayes(data_to_train_one, data_to_train_two, data_to_test_one, data_to_test_two, label_train_one, label_train_two, label_test_one, label_test_two):  \n",
        "    #Initialization of CountVectorizer, BernoulliNB and MultinomialNB\n",
        "    multi_NB = MultinomialNB()\n",
        "    bernoulli_NB = BernoulliNB()\n",
        "    count_vec = CountVectorizer()\n",
        "\n",
        "    #Transforming the train data set with CountVectorizer to vectors\n",
        "    #and fit the vectors with the Multinomial and Bernoulli Naive Bayes classifier\n",
        "    train = count_vec.fit_transform(data_to_train_one + data_to_train_two)\n",
        "    multi_NB.fit(train, label_train_one + label_train_two)\n",
        "    bernoulli_NB.fit(train, label_train_one + label_train_two)\n",
        "\n",
        "    #Now is transformed the two test data sets with CountVectorizer \n",
        "    #and perform the classification with the predict with  \n",
        "    #Multinomial and Bernoulli Naive Bayes    \n",
        "    test_one = count_vec.transform(data_to_test_one)\n",
        "    multi_NB_test_one = multi_NB.predict(test_one)\n",
        "    bernoulli_NB_test_one = bernoulli_NB.predict(test_one)\n",
        "\n",
        "    test_two = count_vec.transform(data_to_test_two)\n",
        "    multi_NB_test_two = multi_NB.predict(test_two)\n",
        "    bernoulli_NB_test_two = bernoulli_NB.predict(test_two)\n",
        "    \n",
        "    #Calculated the accuracy on the given test_set of the\n",
        "    #Multinomial and Bernoulli Naive Bayes\n",
        "    test_set = count_vec.transform(data_to_test_one + data_to_test_two)\n",
        "    multi_NB_accuracy = multi_NB .score(test_set, label_test_one + label_test_two)\n",
        "    bernoulli_NB_accuracy = bernoulli_NB .score(test_set, label_test_one + label_test_two)\n",
        "\n",
        "    #Printing Multinomial results\n",
        "    unique, counts = np.unique(multi_NB_test_one, return_counts=True)\n",
        "    print(f\"Multinomial True Positives: {dict(zip(unique, counts))[label_test_one[0]]}\")\n",
        "    unique, counts = np.unique(multi_NB_test_two, return_counts=True)\n",
        "    print(f\"Multinomial False Negatives: {dict(zip(unique, counts))[label_test_two[0]]}\")\n",
        "    print(f\"Multinomial Accuracy: {multi_NB_accuracy:,.2f}\\n\")\n",
        "    \n",
        "    #Printing Bernoulli results\n",
        "    unique, counts = np.unique(bernoulli_NB_test_one, return_counts=True)\n",
        "    print(f\"Bernoulli True Positives: {dict(zip(unique, counts))[label_test_one[0]]}\")    \n",
        "    unique, counts = np.unique(bernoulli_NB_test_two, return_counts=True)\n",
        "    print(f\"Bernoulli False Negatives: {dict(zip(unique, counts))[label_test_two[0]]}\")\n",
        "    print(f\"Bernoulli Accuracy: {bernoulli_NB_accuracy:,.2f}\\n\")\n",
        "    "
      ],
      "metadata": {
        "id": "_5-Ro9vV45N5"
      },
      "execution_count": 27,
      "outputs": []
    },
    {
      "cell_type": "code",
      "source": [
        "#Spam vs Easy-ham\n",
        "print(\"Spam vs Ham \\n-------------------------------------\")\n",
        "Naive_Bayes(ham_train, spam_train, ham_test, spam_test, ham_label_train, spam_label_train, ham_label_test, spam_label_test)"
      ],
      "metadata": {
        "colab": {
          "base_uri": "https://localhost:8080/"
        },
        "id": "bWtpjMhX5GjK",
        "outputId": "d1c4700e-0653-42f9-d5ac-23f6f9f3fcf5"
      },
      "execution_count": 28,
      "outputs": [
        {
          "output_type": "stream",
          "name": "stdout",
          "text": [
            "Spam vs Ham \n",
            "-------------------------------------\n",
            "Multinomial True Positives: 560\n",
            "Multinomial False Negatives: 87\n",
            "Multinomial Accuracy: 0.98\n",
            "\n",
            "Bernoulli True Positives: 560\n",
            "Bernoulli False Negatives: 23\n",
            "Bernoulli Accuracy: 0.88\n",
            "\n"
          ]
        }
      ]
    },
    {
      "cell_type": "markdown",
      "source": [
        "Discussion:\n",
        "\n",
        "For this part we have used the Multinomial and Bernoulli Niave Bayes from SKlearn (also the CountVectorizer), all the information that we have used to know how to work with this three functions is from the official web page and some examples from internet users. We know that Bernoulli Naive Bayes is better compare with Multinomial Naive Bayes when we have to hand boolean or binary values, in the case of Multinomial is used when we have to hand with discrete values.\n",
        "\n",
        "From the first moment that we knew the type of data and we take a look we thought that the Multinomial classifier will fit in a better way and, finally, with the results and the accuracy our suspicions were true. We thought that because of the limitation from Bernoulli of boolean or binary values because in many spam emails as they are publicity or spams some elements can be repitied, elements like symbols, and in the case of Bernoulli can not interpret this type of symbols in the same way as Multinomial classifier does."
      ],
      "metadata": {
        "id": "nEXZgab6QEB6"
      }
    },
    {
      "cell_type": "markdown",
      "metadata": {
        "id": "wDFS3uFFUcS7"
      },
      "source": [
        "### 3.Run your program on \n",
        "-\tSpam versus easy-ham \n",
        "-\tSpam versus hard-ham."
      ]
    },
    {
      "cell_type": "code",
      "execution_count": 29,
      "metadata": {
        "id": "gool_zb8Qzzy",
        "colab": {
          "base_uri": "https://localhost:8080/"
        },
        "outputId": "0079bf73-c5eb-40f8-ec11-006f8d1bf1ac"
      },
      "outputs": [
        {
          "output_type": "stream",
          "name": "stdout",
          "text": [
            "Spam vs Easy-ham \n",
            "--------------------------------\n",
            "Multinomial True Positives: 510\n",
            "Multinomial False Negatives: 82\n",
            "Multinomial Accuracy: 0.97\n",
            "\n",
            "Bernoulli True Positives: 510\n",
            "Bernoulli False Negatives: 44\n",
            "Bernoulli Accuracy: 0.91\n",
            "\n",
            "Spam vs Hard-ham \n",
            "--------------------------------\n",
            "Multinomial True Positives: 41\n",
            "Multinomial False Negatives: 99\n",
            "Multinomial Accuracy: 0.93\n",
            "\n",
            "Bernoulli True Positives: 32\n",
            "Bernoulli False Negatives: 99\n",
            "Bernoulli Accuracy: 0.87\n",
            "\n"
          ]
        }
      ],
      "source": [
        "#Spam vs Easy-ham\n",
        "print(\"Spam vs Easy-ham \\n--------------------------------\")\n",
        "Naive_Bayes(easy_ham_train, spam_train, easy_ham_test, spam_test, easy_ham_label_train, spam_label_train, easy_ham_label_test, spam_label_test)\n",
        "#Spam vs Hard-ham\n",
        "print(\"Spam vs Hard-ham \\n--------------------------------\")\n",
        "Naive_Bayes(hard_ham_train, spam_train, hard_ham_test, spam_test, hard_ham_label_train, spam_label_train, hard_ham_label_test, spam_label_test)"
      ]
    },
    {
      "cell_type": "markdown",
      "source": [
        "Discussion:\n",
        "\n"
      ],
      "metadata": {
        "id": "p0SGWRDaQYh1"
      }
    },
    {
      "cell_type": "markdown",
      "metadata": {
        "id": "TkfQWBB4UhYd"
      },
      "source": [
        "###4.\tTo avoid classification based on common and uninformative words it is common to filter these out. \n",
        "\n",
        "**a.** Argue why this may be useful. Try finding the words that are too common/uncommon in the dataset. \n",
        "\n",
        "**b.** Use the parameters in Sklearn’s `CountVectorizer` to filter out these words. Update the program from point 3 and run it on your data and report your results.\n",
        "\n",
        "You have two options to do this in Sklearn: either using the words found in part (a) or letting Sklearn do it for you. Argue for your decision-making.\n"
      ]
    },
    {
      "cell_type": "code",
      "execution_count": null,
      "metadata": {
        "id": "qt7ELzEqUfas"
      },
      "outputs": [],
      "source": []
    },
    {
      "cell_type": "markdown",
      "metadata": {
        "id": "zcyVfOZFU4F_"
      },
      "source": [
        "###5. Eeking out further performance\n",
        "Filter out the headers and footers of the emails before you run on them. The format may vary somewhat between emails, which can make this a bit tricky, so perfect filtering is not required. Run your program again and answer the following questions: \n",
        "-\tDoes the result improve from 3 and 4? \n",
        "- The split of the data set into a training set and a test set can lead to very skewed results. Why is this, and do you have suggestions on remedies? \n",
        "- What do you expect would happen if your training set were mostly spam messages while your test set were mostly ham messages? \n",
        "\n",
        "Re-estimate your classifier using `fit_prior` parameter set to `false`, and answer the following questions:\n",
        "- What does this parameter mean?\n",
        "- How does this alter the predictions? Discuss why or why not."
      ]
    },
    {
      "cell_type": "code",
      "execution_count": null,
      "metadata": {
        "id": "s_nyGug9U4f3"
      },
      "outputs": [],
      "source": []
    },
    {
      "cell_type": "markdown",
      "metadata": {
        "id": "ND6FKoexVAhW"
      },
      "source": []
    },
    {
      "cell_type": "code",
      "execution_count": null,
      "metadata": {
        "id": "8bI3z_spVacz"
      },
      "outputs": [],
      "source": []
    }
  ],
  "metadata": {
    "colab": {
      "provenance": []
    },
    "kernelspec": {
      "display_name": "Python 3 (ipykernel)",
      "language": "python",
      "name": "python3"
    },
    "language_info": {
      "codemirror_mode": {
        "name": "ipython",
        "version": 3
      },
      "file_extension": ".py",
      "mimetype": "text/x-python",
      "name": "python",
      "nbconvert_exporter": "python",
      "pygments_lexer": "ipython3",
      "version": "3.9.13"
    }
  },
  "nbformat": 4,
  "nbformat_minor": 0
}