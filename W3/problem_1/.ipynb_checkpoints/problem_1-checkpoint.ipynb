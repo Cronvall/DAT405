{
 "cells": [
  {
   "cell_type": "code",
   "execution_count": 1,
   "id": "a1f62b15",
   "metadata": {},
   "outputs": [],
   "source": [
    "import numpy as np\n",
    "import pandas as pd\n",
    "import matplotlib.pyplot as plt"
   ]
  },
  {
   "cell_type": "code",
   "execution_count": 3,
   "id": "0919f4c9",
   "metadata": {},
   "outputs": [],
   "source": [
    "data = pd.read_csv(\"data.csv\")"
   ]
  },
  {
   "cell_type": "code",
   "execution_count": null,
   "id": "56145931",
   "metadata": {},
   "outputs": [],
   "source": [
    "phi = np.array([])\n",
    "psi = np.array([])\n",
    "\n",
    "for i, row in data.iterrows():\n",
    "    # If there exists both a living area and selling price value append to numpy arrays\n",
    "    if row['psi'] != None and row['phi'] != None: \n",
    "        phi = np.append(phi,row['phi'])\n",
    "        psi = np.append(psi,row['psi'])"
   ]
  },
  {
   "cell_type": "code",
   "execution_count": null,
   "id": "7e4918a7",
   "metadata": {},
   "outputs": [],
   "source": [
    "plt.scatter(phi,psi, s=1)\n",
    "plt.plot()"
   ]
  },
  {
   "cell_type": "code",
   "execution_count": null,
   "id": "82aac061",
   "metadata": {},
   "outputs": [],
   "source": []
  }
 ],
 "metadata": {
  "kernelspec": {
   "display_name": "PyCharm (problem_1)",
   "language": "python",
   "name": "pycharm-723bec83"
  },
  "language_info": {
   "codemirror_mode": {
    "name": "ipython",
    "version": 3
   },
   "file_extension": ".py",
   "mimetype": "text/x-python",
   "name": "python",
   "nbconvert_exporter": "python",
   "pygments_lexer": "ipython3",
   "version": "3.9.6"
  }
 },
 "nbformat": 4,
 "nbformat_minor": 5
}
